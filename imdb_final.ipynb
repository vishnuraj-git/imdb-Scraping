{
  "nbformat": 4,
  "nbformat_minor": 0,
  "metadata": {
    "colab": {
      "name": "imdb_final.ipynb",
      "provenance": [],
      "collapsed_sections": [],
      "authorship_tag": "ABX9TyNr2P8Yiye2Uagc+6Ah3Mxz",
      "include_colab_link": true
    },
    "kernelspec": {
      "name": "python3",
      "display_name": "Python 3"
    },
    "language_info": {
      "name": "python"
    }
  },
  "cells": [
    {
      "cell_type": "markdown",
      "metadata": {
        "id": "view-in-github",
        "colab_type": "text"
      },
      "source": [
        "<a href=\"https://colab.research.google.com/github/vishnuraj-git/imdb-Scraping/blob/main/imdb_final.ipynb\" target=\"_parent\"><img src=\"https://colab.research.google.com/assets/colab-badge.svg\" alt=\"Open In Colab\"/></a>"
      ]
    },
    {
      "cell_type": "code",
      "metadata": {
        "id": "lC-dzXHtkA1L"
      },
      "source": [
        "import requests\n",
        "import pandas as pd\n",
        "from bs4 import BeautifulSoup\n",
        "import time\n",
        "from IPython.display import clear_output\n",
        "\n",
        "base_url='https://www.imdb.com/search/title/?release_date=2021-01-01,2021-12-31&sort=num_votes,desc&start='\n",
        "movieName_=[]\n",
        "movieYear_=[]\n",
        "MovieCert_=[]\n",
        "Duration_=[]\n",
        "genre_=[]\n",
        "rating_=[]\n",
        "meta_=[]\n",
        "vot_=[]\n",
        "\n",
        "for i in range(51,200,50):\n",
        "  time.sleep(10)\n",
        "  print('page'+str(i))\n",
        "  url=base_url+str(i)+'&ref_=adv_nxt'\n",
        "  req=requests.get(url)\n",
        "  soup=BeautifulSoup(req.text,'html')\n",
        "  #movie Name\n",
        "  movieName=soup.findAll('h3',attrs={'class':'lister-item-header'})\n",
        "  for name in movieName:\n",
        "     movieName_.append(name.a.text)\n",
        "  #year   \n",
        "  header=soup.findAll('h3',attrs={'class':'lister-item-header'})\n",
        "  span_list=[y.findAll('span') for y in header]\n",
        "  for year in span_list:\n",
        "     movieYear_.append(year[1].text.replace('(','').replace(')',''))\t\n",
        "  #cerificate   \n",
        "  MovieCert=soup.findAll('p',attrs={'class':'text-muted '})\n",
        "  MovieCert_1=([y.span.text if y.find('span',attrs={'class':'certificate'}) else 'NA' for y in MovieCert])\n",
        "  for cert in MovieCert_1:\n",
        "     MovieCert_.append(cert)\n",
        "  #Duration   \t \n",
        "  Duration=soup.findAll('p',attrs={'class':'text-muted '})\n",
        "  Duration_0=[y.find('span',attrs={'class':'runtime'}).text if y.find('span',attrs={'class':'runtime'}) else 'NA' for y in Duration]\n",
        "  for d in Duration_0:\n",
        "    Duration_.append(d)\n",
        "    #Genre\n",
        "  genre=soup.findAll('span',attrs={'class':'genre'})\n",
        "  for gen in genre:\n",
        "    genre_.append(gen.text.strip())\n",
        "  #Rating  \n",
        "  rating=soup.findAll('div',attrs={'class':'inline-block ratings-imdb-rating'})\n",
        "  for rati in rating:\n",
        "    rating_.append(rati.text.strip())\n",
        "  #Voting  \n",
        "  vot=soup.findAll('span',attrs={'name':'nv'})\n",
        "  for v in vot:\n",
        "    vot_.append(v.text.strip())\n",
        "   #MetaScore \n",
        "  ratings_bar=soup.findAll('div',attrs={'class':'ratings-bar'})\n",
        "  meta=[y.find('div',attrs={'class':'inline-block ratings-metascore'}).span.text if y.find('div',attrs={'class':'inline-block ratings-metascore'}) else 'NA' for y in ratings_bar]\n",
        "  for m in meta:\n",
        "    meta_.append(m)\n",
        "data=pd.DataFrame({'Movie':movieName_,'YEAR':movieYear_,'CERTFICATES':MovieCert_,'DURATION':Duration_,'Genre':genre_,'Rating':rating_,'vot':vot_,'META_SCORE':meta_})\n",
        "data.to_csv('imdb_data.csv',index=False)#remove index"
      ],
      "execution_count": null,
      "outputs": []
    }
  ]
}